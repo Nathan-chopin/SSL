{
 "cells": [
  {
   "cell_type": "code",
   "execution_count": 111,
   "metadata": {},
   "outputs": [
    {
     "name": "stdout",
     "output_type": "stream",
     "text": [
      "[[ 1 -2  3  1]\n",
      " [ 2  5 -1  3]\n",
      " [ 4  1  0  2]\n",
      " [ 0 -2  3  1]]\n"
     ]
    }
   ],
   "source": [
    "import numpy as np\n",
    "#question 1\n",
    "A = np.array([\n",
    "    [1, -2, 3, 1],\n",
    "    [2, 5, -1, 3],\n",
    "    [4, 1, 0, 2],\n",
    "    [0, -2, 3, 1]\n",
    "])\n",
    "print(A)"
   ]
  },
  {
   "cell_type": "code",
   "execution_count": 112,
   "metadata": {},
   "outputs": [
    {
     "name": "stdout",
     "output_type": "stream",
     "text": [
      "[ 3 -1  0  3]\n",
      "[ 0 -2  3  1]\n"
     ]
    }
   ],
   "source": [
    "#question 2\n",
    "colonne_3 = A[:, 2]\n",
    "print(colonne_3)\n",
    "ligne_4 = A[3, :]\n",
    "print(ligne_4)"
   ]
  },
  {
   "cell_type": "code",
   "execution_count": 113,
   "metadata": {},
   "outputs": [
    {
     "name": "stdout",
     "output_type": "stream",
     "text": [
      "[[ 1 -2  1  1]\n",
      " [ 2  5  1  3]\n",
      " [ 4  1  1  2]\n",
      " [ 0 -2  1  1]]\n"
     ]
    }
   ],
   "source": [
    "#question 3\n",
    "A[:, 2] = np.array([1, 1, 1, 1])\n",
    "print(A)"
   ]
  },
  {
   "cell_type": "code",
   "execution_count": 114,
   "metadata": {},
   "outputs": [
    {
     "name": "stdout",
     "output_type": "stream",
     "text": [
      "Déterminant de A : -0.9999999999999938\n",
      "Trace de A : 8\n"
     ]
    }
   ],
   "source": [
    "#question 4\n",
    "det_A = np.linalg.det(A)\n",
    "trace_A = np.trace(A)\n",
    "\n",
    "print(\"Déterminant de A :\", det_A)\n",
    "print(\"Trace de A :\", trace_A)"
   ]
  },
  {
   "cell_type": "code",
   "execution_count": 115,
   "metadata": {},
   "outputs": [
    {
     "name": "stdout",
     "output_type": "stream",
     "text": [
      "Solution du système x :\n",
      "[ -2.  -5. -26.  19.]\n",
      "Inverse de A :\n",
      "[[ 1.00000000e+00  9.43689571e-16 -1.99840144e-15 -1.00000000e+00]\n",
      " [ 6.00000000e+00  1.00000000e+00 -2.00000000e+00 -5.00000000e+00]\n",
      " [ 3.40000000e+01  5.00000000e+00 -1.10000000e+01 -2.70000000e+01]\n",
      " [-2.20000000e+01 -3.00000000e+00  7.00000000e+00  1.80000000e+01]]\n"
     ]
    }
   ],
   "source": [
    "#question 5\n",
    "b = np.array([1, 2, -1, 3])\n",
    "\n",
    "A_inv = np.linalg.inv(A)\n",
    "\n",
    "x = np.dot(A_inv, b)\n",
    "\n",
    "print(\"Solution du système x :\")\n",
    "print(x)\n",
    "\n",
    "print(\"Inverse de A :\")\n",
    "print(A_inv)\n"
   ]
  },
  {
   "cell_type": "code",
   "execution_count": 116,
   "metadata": {},
   "outputs": [
    {
     "name": "stdout",
     "output_type": "stream",
     "text": [
      "Matrice B :\n",
      "[[-2  1]\n",
      " [ 5  1]\n",
      " [ 1  1]\n",
      " [-2  1]]\n",
      "Matrice C :\n",
      "[[ 1 -2  1  1]\n",
      " [ 2  5  1  3]]\n",
      "Matrice D :\n",
      "[[ 5  1  3]\n",
      " [ 1  1  2]\n",
      " [-2  1  1]]\n",
      "Matrice M :\n",
      "[[ 7 -4]\n",
      " [-4 39]]\n"
     ]
    }
   ],
   "source": [
    "#question 6\n",
    "B = A[:,1:3]\n",
    "C = A[:2, :]\n",
    "D = A[1:, 1:]\n",
    "\n",
    "print(\"Matrice B :\")\n",
    "print(B)\n",
    "\n",
    "print(\"Matrice C :\")\n",
    "print(C)\n",
    "\n",
    "print(\"Matrice D :\")\n",
    "print(D)\n",
    "\n",
    "M = np.dot(C, C.T)\n",
    "\n",
    "print(\"Matrice M :\")\n",
    "print(M)\n"
   ]
  },
  {
   "cell_type": "markdown",
   "metadata": {},
   "source": [
    "M est une matrice symétrique positive (mais pas nécessairement définie, on dit alors qu'elle est semi-définie je crois)."
   ]
  },
  {
   "cell_type": "code",
   "execution_count": 117,
   "metadata": {},
   "outputs": [
    {
     "name": "stdout",
     "output_type": "stream",
     "text": [
      "Matrice D (diagonale) :\n",
      "[[ 6.5075775  0.       ]\n",
      " [ 0.        39.4924225]]\n",
      "Matrice de passage P :\n",
      "[[-0.99250756 -0.12218326]\n",
      " [-0.12218326  0.99250756]]\n",
      "La matrice de passage P est orthogonale ? [[1. 0.]\n",
      " [0. 1.]]\n"
     ]
    }
   ],
   "source": [
    "valeurs_propres, vecteurs_propres = np.linalg.eigh(M)\n",
    "P = vecteurs_propres\n",
    "D = np.diag(valeurs_propres)\n",
    "P_transpose = P.T\n",
    "verification = np.dot(P,P_transpose)#== np.eye(2)\n",
    "\n",
    "print(\"Matrice D (diagonale) :\")\n",
    "print(D)\n",
    "\n",
    "print(\"Matrice de passage P :\")\n",
    "print(P)\n",
    "\n",
    "print(f\"La matrice de passage P est orthogonale ? {verification}\")\n"
   ]
  },
  {
   "cell_type": "markdown",
   "metadata": {},
   "source": [
    "Le théorème mis en évidence ici est le théorème spectral."
   ]
  }
 ],
 "metadata": {
  "kernelspec": {
   "display_name": "env_msi",
   "language": "python",
   "name": "python3"
  },
  "language_info": {
   "codemirror_mode": {
    "name": "ipython",
    "version": 3
   },
   "file_extension": ".py",
   "mimetype": "text/x-python",
   "name": "python",
   "nbconvert_exporter": "python",
   "pygments_lexer": "ipython3",
   "version": "3.11.9"
  }
 },
 "nbformat": 4,
 "nbformat_minor": 2
}
