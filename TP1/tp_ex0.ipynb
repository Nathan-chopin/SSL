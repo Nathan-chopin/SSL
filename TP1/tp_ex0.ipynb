{
 "cells": [
  {
   "cell_type": "code",
   "execution_count": 333,
   "metadata": {},
   "outputs": [],
   "source": [
    "import numpy as np\n",
    "import numpy.linalg as alg"
   ]
  },
  {
   "attachments": {},
   "cell_type": "markdown",
   "metadata": {},
   "source": [
    "# Vecteurs"
   ]
  },
  {
   "cell_type": "code",
   "execution_count": 1,
   "metadata": {},
   "outputs": [
    {
     "ename": "NameError",
     "evalue": "name 'np' is not defined",
     "output_type": "error",
     "traceback": [
      "\u001b[1;31m---------------------------------------------------------------------------\u001b[0m",
      "\u001b[1;31mNameError\u001b[0m                                 Traceback (most recent call last)",
      "Cell \u001b[1;32mIn[1], line 2\u001b[0m\n\u001b[0;32m      1\u001b[0m \u001b[38;5;66;03m# vecteur colonne\u001b[39;00m\n\u001b[1;32m----> 2\u001b[0m x\u001b[38;5;241m=\u001b[39m\u001b[43mnp\u001b[49m\u001b[38;5;241m.\u001b[39marray([[\u001b[38;5;241m1\u001b[39m],[\u001b[38;5;241m-\u001b[39m\u001b[38;5;241m3\u001b[39m],[\u001b[38;5;241m4\u001b[39m]])     \u001b[38;5;66;03m# doubles crochets\u001b[39;00m\n\u001b[0;32m      3\u001b[0m \u001b[38;5;28mprint\u001b[39m(\u001b[38;5;124m'\u001b[39m\u001b[38;5;124mx=\u001b[39m\u001b[38;5;124m'\u001b[39m)\n\u001b[0;32m      4\u001b[0m \u001b[38;5;28mprint\u001b[39m(x)\n",
      "\u001b[1;31mNameError\u001b[0m: name 'np' is not defined"
     ]
    }
   ],
   "source": [
    "# vecteur colonne\n",
    "x=np.array([[1],[-3],[4]])     # doubles crochets\n",
    "print('x=')\n",
    "print(x)\n",
    "print('dim(x)=',x.shape,'\\n')\n",
    "\n",
    "# vecteur ligne\n",
    "y=np.array([[3,2,-3,7]])       # doubles crochets\n",
    "print('y=')\n",
    "print(y)\n",
    "print('dim(y)=',y.shape,'\\n')\n",
    "\n",
    "# transposition\n",
    "print('transposée de x :')  \n",
    "print(x.T,'\\n')                # vecteur ligne\n",
    "print('transposée de y :')  \n",
    "print(y.T,'\\n')                # vecteur colonne\n",
    "\n",
    "# vecteurs particuliers\n",
    "u=np.ones((4,1))               # doubles parenthèses\n",
    "print('u=')\n",
    "print(u)\n",
    "v=np.zeros((1,6))              # doubles parenthèses\n",
    "print('v=')\n",
    "print(v,'\\n')\n"
   ]
  },
  {
   "attachments": {},
   "cell_type": "markdown",
   "metadata": {},
   "source": [
    "# Produit de vecteurs"
   ]
  },
  {
   "cell_type": "code",
   "execution_count": 335,
   "metadata": {},
   "outputs": [
    {
     "name": "stdout",
     "output_type": "stream",
     "text": [
      "produit scalaire :  [[-25]] \n",
      "\n",
      "produit scalaire :  [[-25]] \n",
      "\n",
      "produit vecteur colonne x par vecteur ligne y : \n",
      "[[  4  -2  10]\n",
      " [ -2   1  -5]\n",
      " [  6  -3  15]\n",
      " [ -8   4 -20]] \n",
      "\n",
      "produit vecteur colonne y par vecteur ligne x : \n",
      "[[  4  -2   6  -8]\n",
      " [ -2   1  -3   4]\n",
      " [ 10  -5  15 -20]] \n",
      "\n"
     ]
    }
   ],
   "source": [
    "# produit scalaire = (vecteur ligne) @ (vecteur colonne) où @ est le produit matriciel\n",
    "# (les vecteurs doivent avoir le même nombre de composantes)\n",
    "x=np.array([[1],[-3],[4]])       # vecteur colonne\n",
    "y=np.array([[-2],[1],[-5]])      # vecteur colonne\n",
    "print('produit scalaire : ', x.T@y,'\\n')        \n",
    "print('produit scalaire : ', y.T@x,'\\n')\n",
    "\n",
    "# produit (vecteur colonne) @ (vecteur ligne) où @ est le produit matriciel\n",
    "# (le nombre de composantes des vecteurs peut être différent)\n",
    "x=np.array([[-2],[1],[-3],[4]])  # vecteur colonne\n",
    "y=np.array([[-2],[1],[-5]])      # vecteur colonne\n",
    "print('produit vecteur colonne x par vecteur ligne y : ')\n",
    "print(x@y.T,'\\n')\n",
    "\n",
    "print('produit vecteur colonne y par vecteur ligne x : ')\n",
    "print(y@x.T,'\\n')                # on obtient la transposée de x@y.T (en effet : y@x.T=(x@y.T).T)"
   ]
  },
  {
   "attachments": {},
   "cell_type": "markdown",
   "metadata": {},
   "source": [
    "# Création d'une matrice"
   ]
  },
  {
   "cell_type": "code",
   "execution_count": 336,
   "metadata": {},
   "outputs": [
    {
     "name": "stdout",
     "output_type": "stream",
     "text": [
      "A=\n",
      "[[ 1 -2  3]\n",
      " [-3  4  1]\n",
      " [ 1  2  1]]\n",
      "dimension de A : (3, 3)\n",
      "transposée de A : \n",
      "[[ 1 -3  1]\n",
      " [-2  4  2]\n",
      " [ 3  1  1]]\n",
      "type des éléments de A : int64 \n",
      "\n",
      "type des éléments de B : float64\n",
      "C=\n",
      "[[1. 2.]\n",
      " [3. 4.]]\n",
      "type des éléments de C : float64 \n",
      "\n"
     ]
    }
   ],
   "source": [
    "A=np.array( [ [1, -2, 3], [-3, 4, 1], [1, 2, 1] ])\n",
    "print('A=')\n",
    "print(A)\n",
    "print('dimension de A :', A.shape)  # alternative : np.shape(A)\n",
    "\n",
    "# transposition\n",
    "print('transposée de A : ')\n",
    "print(A.T)                          # alternative : np.transpose(A)\n",
    "\n",
    "# type des éléments d'une matrice\n",
    "print('type des éléments de A :',A.dtype,'\\n') # type entier\n",
    "\n",
    "B=np.array([ [-1.0,2.2,6.5], [3.0,-5.4,2.3], [1.7, 3.7, -1.0]])\n",
    "print('type des éléments de B :', B.dtype) # type flottant\n",
    "   \n",
    "C=np.array([[1,2],[3,4]],dtype=float)\n",
    "print('C=')\n",
    "print(C)\n",
    "print('type des éléments de C :', C.dtype, '\\n')  # type flottant"
   ]
  },
  {
   "attachments": {},
   "cell_type": "markdown",
   "metadata": {},
   "source": [
    "# Accès aux éléments d'une matrice"
   ]
  },
  {
   "cell_type": "code",
   "execution_count": 337,
   "metadata": {},
   "outputs": [
    {
     "name": "stdout",
     "output_type": "stream",
     "text": [
      "1ère ligne, 3ème colone :  3 \n",
      "\n",
      "2ème colonne (sous forme de tableau) :  [-2  4  2] \n",
      "\n",
      "2ème colonne (sous forme de vecteur colonne) : \n",
      "\n",
      "[[-2]\n",
      " [ 4]\n",
      " [ 2]] \n",
      "\n",
      "3ème ligne (sous forme de tableau) :  [1 2 1] \n",
      "\n",
      "3ème ligne (sous forme de vecteur ligne) :  [[1 2 1]] \n",
      "\n",
      "sous-matrice de A (lignes 2 et 3, colonnes 1 et 2) : \n",
      "\n",
      "[[-3  4]\n",
      " [ 1  2]] \n",
      "\n"
     ]
    }
   ],
   "source": [
    "print('1ère ligne, 3ème colone : ', A[0,2],'\\n')  \n",
    "\n",
    "print('2ème colonne (sous forme de tableau) : ', A[:,1],'\\n')   \n",
    "print('2ème colonne (sous forme de vecteur colonne) : \\n') \n",
    "print(A[:,1:2],'\\n') \n",
    "\n",
    "print('3ème ligne (sous forme de tableau) : ', A[2,:],'\\n')   \n",
    "print('3ème ligne (sous forme de vecteur ligne) : ', A[2:3,:],'\\n')\n",
    "\n",
    "A1=A[1:3,0:2]        # sous-matrice de A (lignes 2 et 3, colonnes 1 et 2)\n",
    "print('sous-matrice de A (lignes 2 et 3, colonnes 1 et 2) : \\n')\n",
    "print(A1,'\\n')"
   ]
  },
  {
   "attachments": {},
   "cell_type": "markdown",
   "metadata": {},
   "source": [
    "# Matrices particulières"
   ]
  },
  {
   "cell_type": "code",
   "execution_count": 338,
   "metadata": {},
   "outputs": [
    {
     "name": "stdout",
     "output_type": "stream",
     "text": [
      "matrice de dimension 2x4 dont les éléments sont tous nuls : \n",
      "\n",
      "[[0. 0. 0. 0.]\n",
      " [0. 0. 0. 0.]] \n",
      "\n",
      "matrice de dimension 3x2 dont les éléments valent tous 1 : \n",
      "\n",
      "[[1. 1.]\n",
      " [1. 1.]\n",
      " [1. 1.]] \n",
      "\n",
      "matrice identité : \n",
      "\n",
      "[[1. 0. 0. 0.]\n",
      " [0. 1. 0. 0.]\n",
      " [0. 0. 1. 0.]\n",
      " [0. 0. 0. 1.]] \n",
      "\n",
      "matrice diagonale : \n",
      "\n",
      "[[-3  0  0  0]\n",
      " [ 0  2  0  0]\n",
      " [ 0  0  6  0]\n",
      " [ 0  0  0 -7]] \n",
      "\n",
      "matrice 3x5 de nombres aléatoires entre 0 et 1 : \n",
      "\n",
      "[[0.83029806 0.28378719 0.55830087 0.64341379 0.76171624]\n",
      " [0.31603658 0.06023992 0.55025131 0.16147188 0.68564782]\n",
      " [0.71329551 0.61578556 0.06651248 0.56896427 0.29324829]] \n",
      "\n"
     ]
    }
   ],
   "source": [
    "print('matrice de dimension 2x4 dont les éléments sont tous nuls : \\n')\n",
    "M=np.zeros((2,4))\n",
    "print(M,'\\n')\n",
    "\n",
    "print('matrice de dimension 3x2 dont les éléments valent tous 1 : \\n')\n",
    "N=np.ones((3,2)) \n",
    "print(N,'\\n')\n",
    "\n",
    "print('matrice identité : \\n')\n",
    "I=np.eye(4)       \n",
    "print(I,'\\n')\n",
    "\n",
    "print('matrice diagonale : \\n')\n",
    "D=np.diag([-3,2,6,-7]) \n",
    "print(D,'\\n')\n",
    "\n",
    "print('matrice 3x5 de nombres aléatoires entre 0 et 1 : \\n')\n",
    "R=np.random.rand(3,5)\n",
    "print(R,'\\n')"
   ]
  },
  {
   "attachments": {},
   "cell_type": "markdown",
   "metadata": {},
   "source": [
    "# Opérations terme à terme"
   ]
  },
  {
   "cell_type": "code",
   "execution_count": 339,
   "metadata": {},
   "outputs": [
    {
     "name": "stdout",
     "output_type": "stream",
     "text": [
      "addition terme à terme : A+B=\n",
      "\n",
      "[[ 0  0  9]\n",
      " [ 0 -1  3]\n",
      " [ 2  5  0]] \n",
      "\n",
      "soustraction terme à terme : A-B=\n",
      "\n",
      "[[ 2 -4 -3]\n",
      " [-6  9 -1]\n",
      " [ 0 -1  2]] \n",
      "\n",
      "multiplication terme à terme : A*B=\n",
      "\n",
      "[[ -1  -4  18]\n",
      " [ -9 -20   2]\n",
      " [  1   6  -1]] \n",
      "\n",
      "division terme à terme : A/B=\n",
      "\n",
      "[[-1.         -1.          0.5       ]\n",
      " [-1.         -0.8         0.5       ]\n",
      " [ 1.          0.66666667 -1.        ]] \n",
      "\n"
     ]
    }
   ],
   "source": [
    "B=np.array([ [-1,2,6], [3,-5,2], [1,3,-1]])\n",
    "\n",
    "print('addition terme à terme : A+B=\\n')\n",
    "print(A+B,'\\n')    \n",
    "\n",
    "print('soustraction terme à terme : A-B=\\n')\n",
    "print(A-B,'\\n')   \n",
    "\n",
    "print('multiplication terme à terme : A*B=\\n')\n",
    "print(A*B,'\\n')    \n",
    "\n",
    "print('division terme à terme : A/B=\\n')\n",
    "print(A/B,'\\n')    "
   ]
  },
  {
   "attachments": {},
   "cell_type": "markdown",
   "metadata": {},
   "source": [
    "# Concaténation de matrices"
   ]
  },
  {
   "cell_type": "code",
   "execution_count": 340,
   "metadata": {},
   "outputs": [
    {
     "name": "stdout",
     "output_type": "stream",
     "text": [
      "[[ 1 -2  3]\n",
      " [-3  4  1]\n",
      " [ 1  2  1]\n",
      " [-1  2  6]\n",
      " [ 3 -5  2]\n",
      " [ 1  3 -1]] \n",
      "\n",
      "[[ 1 -2  3 -1  2  6]\n",
      " [-3  4  1  3 -5  2]\n",
      " [ 1  2  1  1  3 -1]] \n",
      "\n",
      "[[ 1 -2  3]\n",
      " [-3  4  1]\n",
      " [ 1  2  1]\n",
      " [-1  2  6]\n",
      " [ 3 -5  2]\n",
      " [ 1  3 -1]] \n",
      "\n",
      "[[ 1 -2  3 -1  2  6]\n",
      " [-3  4  1  3 -5  2]\n",
      " [ 1  2  1  1  3 -1]] \n",
      "\n"
     ]
    }
   ],
   "source": [
    "print(np.concatenate((A,B),axis=0),'\\n')   # concaténation des matrices A et B sur \n",
    "                                           # l'axe vertical (l'une sur l'autre)\n",
    "print(np.concatenate((A,B),axis=1),'\\n')   # concaténation des matrices A et B sur \n",
    "                                           # l'axe horizontal (côte à côte)\n",
    "\n",
    "# alternatives\n",
    "print(np.vstack((A,B)),'\\n')   # concaténation verticale\n",
    "print(np.hstack((A,B)),'\\n')   # concaténation horizontale\n"
   ]
  },
  {
   "attachments": {},
   "cell_type": "markdown",
   "metadata": {},
   "source": [
    "# Maximum, minimum, moyenne d'une matrice"
   ]
  },
  {
   "cell_type": "code",
   "execution_count": 341,
   "metadata": {},
   "outputs": [
    {
     "name": "stdout",
     "output_type": "stream",
     "text": [
      "4 \n",
      "\n",
      "-3 \n",
      "\n",
      "0.8888888888888888 \n",
      "\n"
     ]
    }
   ],
   "source": [
    "print(np.amax(A),'\\n')\n",
    "print(np.amin(A),'\\n')\n",
    "print(np.mean(A),'\\n')"
   ]
  },
  {
   "attachments": {},
   "cell_type": "markdown",
   "metadata": {},
   "source": [
    "# Calcul matriciel "
   ]
  },
  {
   "cell_type": "code",
   "execution_count": 342,
   "metadata": {},
   "outputs": [
    {
     "name": "stdout",
     "output_type": "stream",
     "text": [
      "AB=\n",
      "[[ -4  21  -1]\n",
      " [ 16 -23 -11]\n",
      " [  6  -5   9]] \n",
      "\n",
      "BA=\n",
      "[[ -1  22   5]\n",
      " [ 20 -22   6]\n",
      " [ -9   8   5]] \n",
      "\n",
      "trace de A :  6\n",
      "déterminant de A :  -36.0\n",
      "rang de A :  3 \n",
      "\n",
      "inverse de A : \n",
      "[[-0.05555556 -0.22222222  0.38888889]\n",
      " [-0.11111111  0.05555556  0.27777778]\n",
      " [ 0.27777778  0.11111111  0.05555556]] \n",
      "\n",
      "solution de Ax=b : x = \n",
      "[[-1.5]\n",
      " [-1. ]\n",
      " [ 0.5]] \n",
      "\n"
     ]
    }
   ],
   "source": [
    "# produit matriciel\n",
    "print('AB=')\n",
    "print(A@B,'\\n')\n",
    "print('BA=')\n",
    "print(B@A,'\\n')\n",
    "\n",
    "# trace et déterminant d'une matrice\n",
    "print('trace de A : ', np.trace(A))\n",
    "print('déterminant de A : ', alg.det(A))\n",
    "\n",
    "# rang d'une matrice\n",
    "print('rang de A : ', alg.matrix_rank(A),'\\n')\n",
    "\n",
    "# inversion\n",
    "print('inverse de A : ')\n",
    "print(alg.inv(A),'\\n')\n",
    "\n",
    "# résolution d'un système linéaire Ax=b\n",
    "b=np.array([[2],[1],[-3]])                 # vecteur colonne\n",
    "x=alg.inv(A)@b                             # alternative : x=alg.solve(A,b)\n",
    "print('solution de Ax=b : x = ')   \n",
    "print(x,'\\n')              \n"
   ]
  },
  {
   "attachments": {},
   "cell_type": "markdown",
   "metadata": {},
   "source": [
    "# Diagonalisation"
   ]
  },
  {
   "cell_type": "code",
   "execution_count": 345,
   "metadata": {},
   "outputs": [
    {
     "name": "stdout",
     "output_type": "stream",
     "text": [
      "coefficients du polynome caractéristique de A par degré décroissant :  [ 1. -6. -2. 36.] \n",
      "\n",
      "liste des valeurs propres de A :  [-2.2181867  4.9185226  3.2996641] \n",
      "\n",
      "liste des valeurs propres de A :  [-2.2181867  4.9185226  3.2996641] \n",
      "\n",
      "vecteurs porpres de A (matrice de passage) : P = \n",
      "\n",
      "[[-0.74327228 -0.13324263  0.37494279]\n",
      " [-0.43968206  0.89610674  0.61259155]\n",
      " [ 0.50420829  0.42336641  0.69580852]] \n",
      "\n",
      "matrice diagonale : D = \n",
      "\n",
      "[[-2.2181867  0.         0.       ]\n",
      " [ 0.         4.9185226  0.       ]\n",
      " [ 0.         0.         3.2996641]] \n",
      "\n",
      "P.D.inv(P) = \n",
      "\n",
      "[[ 1. -2.  3.]\n",
      " [-3.  4.  1.]\n",
      " [ 1.  2.  1.]] \n",
      "\n"
     ]
    }
   ],
   "source": [
    "print('coefficients du polynome caractéristique de A par degré décroissant : ', np.poly(A),'\\n')      \n",
    "\n",
    "print('liste des valeurs propres de A : ', alg.eigvals(A),'\\n')  \n",
    "\n",
    "# calcul des valeurs propres (eigenvalues) et des vecteurs propres (P : matrice de passage) \n",
    "eigenvalues,P=alg.eig(A)\n",
    "print('liste des valeurs propres de A : ', eigenvalues,'\\n')    \n",
    "print('vecteurs porpres de A (matrice de passage) : P = \\n')\n",
    "print(P,'\\n')               \n",
    "\n",
    "# matrice diagonale\n",
    "D=np.diag(eigenvalues)      # matrice diagonale\n",
    "print('matrice diagonale : D = \\n')\n",
    "print(D,'\\n')\n",
    "\n",
    "# calcul de P.D.inv(P)\n",
    "print('P.D.inv(P) = \\n')\n",
    "print(P@D@alg.inv(P),'\\n')  # on retrouve A"
   ]
  }
 ],
 "metadata": {
  "kernelspec": {
   "display_name": "env_msi",
   "language": "python",
   "name": "python3"
  },
  "language_info": {
   "codemirror_mode": {
    "name": "ipython",
    "version": 3
   },
   "file_extension": ".py",
   "mimetype": "text/x-python",
   "name": "python",
   "nbconvert_exporter": "python",
   "pygments_lexer": "ipython3",
   "version": "3.11.9"
  },
  "orig_nbformat": 4,
  "vscode": {
   "interpreter": {
    "hash": "6ed9f5aadfcfd299e3b7fde53c43243c9ab7794556f2726a504aca322589378d"
   }
  }
 },
 "nbformat": 4,
 "nbformat_minor": 2
}
