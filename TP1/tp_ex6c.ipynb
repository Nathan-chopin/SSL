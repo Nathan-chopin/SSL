{
 "cells": [
  {
   "cell_type": "code",
   "execution_count": 4,
   "metadata": {},
   "outputs": [
    {
     "data": {
      "text/plain": [
       "'\\n# Partie C : Descente de gradient sur des données chargées\\ndata = scipy.io.loadmat(\\'data.mat\\')\\nx = data[\\'x\\']\\nf = data[\\'f\\']\\n\\nxk = 2.2  # Initialisation\\nplt.figure(4)\\nplt.plot(x[0,:], f[0,:], linewidth=2)\\nplt.grid(True)\\nplt.xlabel(\"x\")\\nplt.ylabel(\"f(x)\")\\n'"
      ]
     },
     "execution_count": 4,
     "metadata": {},
     "output_type": "execute_result"
    }
   ],
   "source": [
    "import numpy as np\n",
    "import matplotlib.pyplot as plt\n",
    "import scipy.io\n",
    "\n",
    "# Partie C : Descente de gradient sur des données chargées\n",
    "data = scipy.io.loadmat('data.mat')\n",
    "x = data['x']\n",
    "f = data['f']\n",
    "\n",
    "xk = 2.2  # Initialisation\n",
    "plt.figure(4)\n",
    "plt.plot(x[0,:], f[0,:], linewidth=2)\n",
    "plt.grid(True)\n",
    "plt.xlabel(\"x\")\n",
    "plt.ylabel(\"f(x)\")\n"
   ]
  }
 ],
 "metadata": {
  "kernelspec": {
   "display_name": "env_msi",
   "language": "python",
   "name": "python3"
  },
  "language_info": {
   "codemirror_mode": {
    "name": "ipython",
    "version": 3
   },
   "file_extension": ".py",
   "mimetype": "text/x-python",
   "name": "python",
   "nbconvert_exporter": "python",
   "pygments_lexer": "ipython3",
   "version": "3.11.9"
  },
  "orig_nbformat": 4,
  "vscode": {
   "interpreter": {
    "hash": "6ed9f5aadfcfd299e3b7fde53c43243c9ab7794556f2726a504aca322589378d"
   }
  }
 },
 "nbformat": 4,
 "nbformat_minor": 2
}
