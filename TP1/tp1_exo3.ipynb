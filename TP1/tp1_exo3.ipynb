{
 "cells": [
  {
   "cell_type": "code",
   "execution_count": null,
   "metadata": {},
   "outputs": [
    {
     "name": "stdout",
     "output_type": "stream",
     "text": [
      "0.8219097257768413\n"
     ]
    }
   ],
   "source": [
    "import numpy as np\n",
    "import numpy.linalg as alg\n",
    "\n",
    "def crea_A(n):\n",
    "    # Crée une matrice A de taille n\n",
    "    A = np.diag([2]*n) + np.diag([-1]*(n-1), 1) + np.diag([-1]*(n-1), -1)\n",
    "    return A\n",
    "\n",
    "A = crea_A(6)\n",
    "\n",
    "def puissance_itérée(A, prec = 0.0005):\n",
    "    # Applique la méthode de la puissance itérée à la matrice A avec une précision prec\n",
    "    delta = prec + 1\n",
    "    x0 = np.random.rand(len(A))\n",
    "    vp0 = 0\n",
    "    compteur = [0]\n",
    "    valeurs = [0]\n",
    "    while delta > prec:\n",
    "        x1 = A @ x0\n",
    "        vp1 = alg.norm(x1) / alg.norm(x0)\n",
    "        delta = abs(vp1 - vp0)\n",
    "        x0 = x1 / alg.norm(x1)\n",
    "        vp0 = vp1\n",
    "        compteur.append(len(compteur))\n",
    "        valeurs.append(vp0)\n",
    "    return vp1,x1\n",
    "\n",
    "def deflation(A):\n",
    "    #applique la méthode de la déflation à la matrice A\n",
    "    lambda1, e1 = puissance_itérée(A)\n",
    "    e1 =np.array([e1]).T\n",
    "    B = A - (lambda1 * e1 * e1.T / alg.norm(e1)**2)\n",
    "    return B\n",
    "\n",
    "def diagonalisation(A):\n",
    "    vp = []\n",
    "    vectp = []\n",
    "    for i in range(len(A)):\n",
    "        vpk,xk = puissance_itérée(A)\n",
    "        vp.append(vpk)\n",
    "        vectp.append(xk)\n",
    "        A = deflation(A)\n",
    "    D = np.diag(vp)\n",
    "    P = np.vstack(vectp)\n",
    "    return D,P\n",
    "\n",
    "def precision(A):\n",
    "    D,P = diagonalisation(A)\n",
    "    prec = alg.norm(A)/alg.norm(P @ D @ alg.inv(P))\n",
    "    return prec"
   ]
  }
 ],
 "metadata": {
  "kernelspec": {
   "display_name": "env_msi",
   "language": "python",
   "name": "python3"
  },
  "language_info": {
   "codemirror_mode": {
    "name": "ipython",
    "version": 3
   },
   "file_extension": ".py",
   "mimetype": "text/x-python",
   "name": "python",
   "nbconvert_exporter": "python",
   "pygments_lexer": "ipython3",
   "version": "3.11.9"
  }
 },
 "nbformat": 4,
 "nbformat_minor": 2
}
